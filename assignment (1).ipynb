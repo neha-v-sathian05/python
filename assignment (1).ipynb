{
  "nbformat": 4,
  "nbformat_minor": 0,
  "metadata": {
    "colab": {
      "provenance": []
    },
    "kernelspec": {
      "name": "python3",
      "display_name": "Python 3"
    },
    "language_info": {
      "name": "python"
    }
  },
  "cells": [
    {
      "cell_type": "markdown",
      "source": [
        "# Case 1 -  Analyzing Monthly Expenses"
      ],
      "metadata": {
        "id": "cuXeF9SMssfE"
      }
    },
    {
      "cell_type": "code",
      "execution_count": 12,
      "metadata": {
        "colab": {
          "base_uri": "https://localhost:8080/"
        },
        "id": "45amjgy-qXvz",
        "outputId": "ca20d295-03a1-403f-a83b-648fb06d01bd"
      },
      "outputs": [
        {
          "output_type": "stream",
          "name": "stdout",
          "text": [
            " Mean : 1108.3333333333333\n",
            " Median : 1050.0 \n",
            " Mode : 1200\n"
          ]
        }
      ],
      "source": [
        "import numpy as np\n",
        "import statistics as stats\n",
        "expenses = np.array([1200, 1500, 900, 1100, 1000, 950])\n",
        "# 1. Calculate the mean, median, and mode\n",
        "mean_expenses = np.mean(expenses)\n",
        "median_expenses = np.median(expenses)\n",
        "mode_expenses = stats.mode(expenses)\n",
        "print(f\" Mean : {mean_expenses}\\n Median : {median_expenses} \\n Mode : {mode_expenses}\")\n",
        "\n"
      ]
    },
    {
      "cell_type": "code",
      "source": [
        "# 2.  What is the range of the expenses?\n",
        "range=np.ptp(expenses)\n",
        "print(\"Range : \",range)\n"
      ],
      "metadata": {
        "colab": {
          "base_uri": "https://localhost:8080/"
        },
        "id": "p_Dpg4tirP9t",
        "outputId": "55b0370b-87a9-4413-ccff-1a064fede1cf"
      },
      "execution_count": 7,
      "outputs": [
        {
          "output_type": "stream",
          "name": "stdout",
          "text": [
            "Range :  600\n"
          ]
        }
      ]
    },
    {
      "cell_type": "code",
      "source": [
        "# 3. Calculate variance and standard deviation\n",
        "variance_expenses = np.var(expenses)\n",
        "std_dev_expenses = np.std(expenses)\n",
        "print(f\" Variance : {variance_expenses}\\n Standard Deviation : {std_dev_expenses}\")\n"
      ],
      "metadata": {
        "colab": {
          "base_uri": "https://localhost:8080/"
        },
        "id": "Yh3FAA2nrgBm",
        "outputId": "7577c3a1-c826-4b0c-b7ee-77f32ed8af2b"
      },
      "execution_count": 9,
      "outputs": [
        {
          "output_type": "stream",
          "name": "stdout",
          "text": [
            " Variance : 40347.22222222222\n",
            " Standard Deviation : 200.86617988656582\n"
          ]
        }
      ]
    },
    {
      "cell_type": "code",
      "source": [
        "# 4. Including an outlier 2500$\n",
        "expenses_with_outlier = np.append(expenses, 2500)\n",
        "mean_expenses_outlier = np.mean(expenses_with_outlier)\n",
        "median_expenses_outlier = np.median(expenses_with_outlier)\n",
        "std_dev_expenses_outlier = np.std(expenses_with_outlier)\n",
        "print(f\" Mean outlier: {mean_expenses_outlier}\\n Median Outlier: {median_expenses_outlier}\\n Std Deviation Outlier: {std_dev_expenses_outlier}\")\n"
      ],
      "metadata": {
        "colab": {
          "base_uri": "https://localhost:8080/"
        },
        "id": "E55OMq73ryqU",
        "outputId": "27abd15c-ebe5-45b8-a0e5-bd3e2420f740"
      },
      "execution_count": 11,
      "outputs": [
        {
          "output_type": "stream",
          "name": "stdout",
          "text": [
            " Mean outlier: 1307.142857142857\n",
            " Median Outlier: 1100.0\n",
            " Std Deviation Outlier: 521.2817797291126\n"
          ]
        }
      ]
    },
    {
      "cell_type": "markdown",
      "source": [
        "# Case 2 -  Employee Performance Scores:"
      ],
      "metadata": {
        "id": "7cy4VR2ptBHj"
      }
    },
    {
      "cell_type": "code",
      "source": [
        "scores = np.array([75, 80, 85, 60, 90, 95, 70, 85])\n",
        "# 1. Mean, median, and mode\n",
        "mean_scores = np.mean(scores)\n",
        "median_scores = np.median(scores)\n",
        "mode_scores = stats.mode(scores)\n",
        "print(f\" Mean Scores : {mean_scores}\\n Median Scores : {median_scores}\\n Mode Scores : {mode_scores}\")"
      ],
      "metadata": {
        "colab": {
          "base_uri": "https://localhost:8080/"
        },
        "id": "KY1WzVHQs7H0",
        "outputId": "fcb823a1-5d4a-4f72-f230-a3643a4904a2"
      },
      "execution_count": 15,
      "outputs": [
        {
          "output_type": "stream",
          "name": "stdout",
          "text": [
            " Mean Scores : 80.0\n",
            " Median Scores : 82.5\n",
            " Mode Scores : 85\n"
          ]
        }
      ]
    },
    {
      "cell_type": "code",
      "source": [
        "# 2. Variance and standard deviation\n",
        "variance_scores = np.var(scores)\n",
        "std_dev_scores = np.std(scores)\n",
        "print(f\" Variance Scores : {variance_scores}\\n Standard Deviation Scores : {std_dev_scores}\")"
      ],
      "metadata": {
        "colab": {
          "base_uri": "https://localhost:8080/"
        },
        "id": "-7KrpKKxtEKc",
        "outputId": "7628f383-40bc-43cc-9b7a-c964ff130581"
      },
      "execution_count": 16,
      "outputs": [
        {
          "output_type": "stream",
          "name": "stdout",
          "text": [
            " Variance Scores : 112.5\n",
            " Standard Deviation Scores : 10.606601717798213\n"
          ]
        }
      ]
    },
    {
      "cell_type": "code",
      "source": [
        "# 3. Checking skewness\n",
        "is_skewed = mean_scores != median_scores\n",
        "is_skewed"
      ],
      "metadata": {
        "colab": {
          "base_uri": "https://localhost:8080/"
        },
        "id": "2KRqReZst7ez",
        "outputId": "3f954954-f2cf-4cce-b0cc-8cf6140ff6df"
      },
      "execution_count": 21,
      "outputs": [
        {
          "output_type": "execute_result",
          "data": {
            "text/plain": [
              "True"
            ]
          },
          "metadata": {},
          "execution_count": 21
        }
      ]
    },
    {
      "cell_type": "code",
      "source": [
        "# 4. Including a low outlier(Addded 40)\n",
        "scores_with_outlier = np.append(scores, 40)\n",
        "mean_scores_outlier = np.mean(scores_with_outlier)\n",
        "std_dev_scores_outlier = np.std(scores_with_outlier)\n",
        "print(f\" Mean Scores Outlier : {mean_scores_outlier}\\n Standard Deviation Scores : {std_dev_scores_outlier}\")"
      ],
      "metadata": {
        "colab": {
          "base_uri": "https://localhost:8080/"
        },
        "id": "pC6teBSMu0l6",
        "outputId": "84e2f2cf-2cad-4491-e493-27f3741d7b04"
      },
      "execution_count": 22,
      "outputs": [
        {
          "output_type": "stream",
          "name": "stdout",
          "text": [
            " Mean Scores Outlier : 75.55555555555556\n",
            " Standard Deviation Scores : 16.06314699422329\n"
          ]
        }
      ]
    },
    {
      "cell_type": "markdown",
      "source": [
        "# Case 3 - Relationship Between Hours Studied and Test Scores"
      ],
      "metadata": {
        "id": "AoDQ9SBLvY53"
      }
    },
    {
      "cell_type": "code",
      "source": [
        "# Dataset of hours studied and test scores\n",
        "hours_studied = np.array([2, 4, 6, 8, 10, 12, 14])\n",
        "test_scores = np.array([55, 60, 65, 70, 75, 85, 90])"
      ],
      "metadata": {
        "id": "jkJfZtDlvN3p"
      },
      "execution_count": 24,
      "outputs": []
    },
    {
      "cell_type": "code",
      "source": [
        "# 1. Mean, variance, and standard deviation\n",
        "mean_hours = np.mean(hours_studied)\n",
        "std_hours = np.std(hours_studied)\n",
        "mean_scores = np.mean(test_scores)\n",
        "std_scores = np.std(test_scores)\n",
        "print(f\" Mean Hours: {mean_hours}\\n Standard Hours : {std_hours}\\n Mean Scores {mean_scores}\\n Standard Scores{std_scores}\")\n",
        "\n",
        "\n",
        "\n"
      ],
      "metadata": {
        "colab": {
          "base_uri": "https://localhost:8080/"
        },
        "id": "CTqumxG7voKI",
        "outputId": "aa33c865-7939-48f4-a51c-ab1990d72473"
      },
      "execution_count": 25,
      "outputs": [
        {
          "output_type": "stream",
          "name": "stdout",
          "text": [
            " Mean Hours: 8.0\n",
            " Standard Hours : 4.0\n",
            " Mean Scores 71.42857142857143\n",
            " Standard Scores11.866605518454392\n"
          ]
        }
      ]
    },
    {
      "cell_type": "code",
      "source": [
        "# 2. Covariance\n",
        "covariance = np.cov(hours_studied, test_scores)\n",
        "print(covariance)\n"
      ],
      "metadata": {
        "colab": {
          "base_uri": "https://localhost:8080/"
        },
        "id": "bCKK9lT5wSFN",
        "outputId": "d296390c-a824-41ec-8e65-d219530d00f7"
      },
      "execution_count": 29,
      "outputs": [
        {
          "output_type": "stream",
          "name": "stdout",
          "text": [
            "[[ 18.66666667  55.        ]\n",
            " [ 55.         164.28571429]]\n"
          ]
        }
      ]
    },
    {
      "cell_type": "code",
      "source": [
        "# 3. Correlation coefficient\n",
        "correlation_coefficient = np.corrcoef(hours_studied, test_scores)[0][1]\n",
        "print(correlation_coefficient)\n",
        "\n",
        "#4. Based on the correlation, we can conclude that studying more hours can lead to bette results and perfomance\n"
      ],
      "metadata": {
        "colab": {
          "base_uri": "https://localhost:8080/"
        },
        "id": "dwCsPlSSwpfO",
        "outputId": "432a73f0-ebe7-41d2-b437-17de6e71a129"
      },
      "execution_count": 34,
      "outputs": [
        {
          "output_type": "stream",
          "name": "stdout",
          "text": [
            "0.9931832879575961\n"
          ]
        }
      ]
    },
    {
      "cell_type": "markdown",
      "source": [
        "# Case 4 -  Income vs. Spending Behavior"
      ],
      "metadata": {
        "id": "AUU1R37oxiJl"
      }
    },
    {
      "cell_type": "code",
      "source": [
        "# Dataset for annual income and monthly spending\n",
        "income = np.array([30, 40, 45, 50, 60, 65, 75, 80, 85, 95])\n",
        "spending = np.array([1500, 2000, 2100, 2400, 3000, 3200, 3500, 3600, 3700, 4000])"
      ],
      "metadata": {
        "id": "crLOiZpGw-u5"
      },
      "execution_count": 35,
      "outputs": []
    },
    {
      "cell_type": "code",
      "source": [
        "# 1. Mean, median, and standard deviation\n",
        "mean_income = np.mean(income)\n",
        "std_income = np.std(income)\n",
        "mean_spending = np.mean(spending)\n",
        "std_spending = np.std(spending)\n",
        "print(f\" Mean Income: {mean_income}\\n Standard Income : {std_income}\\n Mean Spending {mean_spending}\\n Standard Spending{std_spending}\")\n",
        "\n",
        "\n"
      ],
      "metadata": {
        "colab": {
          "base_uri": "https://localhost:8080/"
        },
        "id": "BeKzpTV4xFsU",
        "outputId": "ecc28f57-d407-4004-a900-8c44d47da8ce"
      },
      "execution_count": 36,
      "outputs": [
        {
          "output_type": "stream",
          "name": "stdout",
          "text": [
            " Mean Income: 62.5\n",
            " Standard Income : 20.155644370746373\n",
            " Mean Spending 2900.0\n",
            " Standard Spending803.7412518964048\n"
          ]
        }
      ]
    },
    {
      "cell_type": "code",
      "source": [
        "# 2. Covariance and correlation coefficient\n",
        "covariance_income_spending = np.cov(income, spending)[0][1]\n",
        "correlation_coefficient_income_spending = np.corrcoef(income, spending)[0][1]\n",
        "print(f\" Covariance Income: {covariance_income_spending}\\n Correlation Coeffiecient : {correlation_coefficient}\")"
      ],
      "metadata": {
        "colab": {
          "base_uri": "https://localhost:8080/"
        },
        "id": "_ROsjSJryIpp",
        "outputId": "008cbe85-3254-4cb2-ab08-510213024330"
      },
      "execution_count": 37,
      "outputs": [
        {
          "output_type": "stream",
          "name": "stdout",
          "text": [
            " Covariance Income: 17777.777777777777\n",
            " Correlation Coeffiecient : 0.9931832879575961\n"
          ]
        }
      ]
    },
    {
      "cell_type": "code",
      "source": [
        "# 3. Identify outliers\n",
        "z_scores = np.abs((spending - mean_spending) / std_spending)\n",
        "outliers = spending[z_scores > 2]\n",
        "print(outliers)\n",
        "\n",
        "#Remove outliers\n",
        "spending_no_outliers = spending[z_scores <= 2]\n",
        "income_no_outliers = income[z_scores <= 2]\n",
        "print(\"Spending : \",spending_no_outliers)\n",
        "print(\"Income : \",income_no_outliers)\n",
        "\n",
        "#Recalculate correlation without outliers\n",
        "correlation_no_outliers = np.corrcoef(income_no_outliers, spending_no_outliers)[0][1]\n",
        "print(correlation_no_outliers)"
      ],
      "metadata": {
        "colab": {
          "base_uri": "https://localhost:8080/"
        },
        "id": "cd2yIqHqyaOb",
        "outputId": "9306d9fb-f0ba-40ad-9de9-4b4c21e34582"
      },
      "execution_count": 49,
      "outputs": [
        {
          "output_type": "stream",
          "name": "stdout",
          "text": [
            "[]\n",
            "Spending :  [1500 2000 2100 2400 3000 3200 3500 3600 3700 4000]\n",
            "Income :  [30 40 45 50 60 65 75 80 85 95]\n",
            "0.9876590252123215\n"
          ]
        }
      ]
    },
    {
      "cell_type": "markdown",
      "source": [
        "4. General Conclusion About the Relationship Between Income and Spending Behavior\n",
        "The analysis of the data reveals a positive correlation between annual income and monthly spending. This suggests that, as individuals' incomes increase, their monthly spending tends to increase as well. The strength of this relationship indicates that higher-income individuals are likely to spend more each month compared to those with lower incomes."
      ],
      "metadata": {
        "id": "5AeYTmTb0dvP"
      }
    },
    {
      "cell_type": "markdown",
      "source": [
        "5. To predict monthly spending for someone earning 100,000, we can use the positive correlation between income and spending found in the analysis. Based on existing data trends, we might estimate that this individual could spend around 4,000 monthly. This correlation helps inform budgeting and financial planning for higher-income earners."
      ],
      "metadata": {
        "id": "7KMrAos20r8m"
      }
    }
  ]
}